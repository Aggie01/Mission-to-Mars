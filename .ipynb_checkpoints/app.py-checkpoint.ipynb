{
 "cells": [
  {
   "cell_type": "code",
   "execution_count": 1,
   "id": "755f8a24",
   "metadata": {},
   "outputs": [],
   "source": [
    "#The first line says that we'll use Flask to render a template, redirecting to another url, and creating a URL.\n",
    "#The second line says we'll use PyMongo to interact with our Mongo database.\n",
    "#The third line says that to use the scraping code, we will convert from Jupyter notebook to Python.\n",
    "from flask import Flask, render_template, redirect, url_for\n",
    "from flask_pymongo import PyMongo\n",
    "import scraping"
   ]
  },
  {
   "cell_type": "code",
   "execution_count": 2,
   "id": "0f493e26",
   "metadata": {},
   "outputs": [],
   "source": [
    "#setting up Flask\n",
    "app = Flask(__name__)\n",
    "#We also need to tell Python how to connect to Mongo using PyMongo\n",
    "# Use flask_pymongo to set up mongo connection\n",
    "app.config[\"MONGO_URI\"] = \"mongodb://localhost:27017/mars_app\"\n",
    "mongo = PyMongo(app)"
   ]
  },
  {
   "cell_type": "code",
   "execution_count": 3,
   "id": "53602205",
   "metadata": {},
   "outputs": [],
   "source": [
    "#app.config[\"MONGO_URI\"] tells Python that our app will connect to Mongo using a URI, a uniform resource identifier similar to a URL.\n",
    "#\"mongodb://localhost:27017/mars_app\" is the URI we'll be using to connect our app to Mongo. This URI is saying that the app can reach Mongo through our localhost server, using port 27017, using a database named \"mars_app\"."
   ]
  },
  {
   "cell_type": "code",
   "execution_count": 4,
   "id": "a3816067",
   "metadata": {},
   "outputs": [],
   "source": [
    "#The code we create next will set up our Flask routes: one for the main HTML page everyone will view when visiting the web app, and one to actually scrape new data using the code we've written."
   ]
  },
  {
   "cell_type": "code",
   "execution_count": 3,
   "id": "e42b9d36",
   "metadata": {},
   "outputs": [],
   "source": [
    "#First, let's define the route for the HTML page. In our script, type the following:\n",
    "@app.route(\"/\")\n",
    "def index():\n",
    "   mars = mongo.db.mars.find_one()\n",
    "   return render_template(\"index.html\", mars=mars)"
   ]
  },
  {
   "cell_type": "code",
   "execution_count": 4,
   "id": "77557342",
   "metadata": {},
   "outputs": [],
   "source": [
    "#Our next function will set up our scraping route. This route will be the \"button\" of the web application\n",
    "@app.route(\"/scrape\")\n",
    "def scrape():\n",
    "   mars = mongo.db.mars\n",
    "   mars_data = scraping.scrape_all()\n",
    "   mars.update_one({}, {\"$set\":mars_data}, upsert=True)\n",
    "   return redirect('/', code=302)"
   ]
  },
  {
   "cell_type": "code",
   "execution_count": null,
   "id": "5460a9cb",
   "metadata": {},
   "outputs": [
    {
     "name": "stdout",
     "output_type": "stream",
     "text": [
      " * Serving Flask app \"__main__\" (lazy loading)\n",
      " * Environment: production\n",
      "\u001b[31m   WARNING: This is a development server. Do not use it in a production deployment.\u001b[0m\n",
      "\u001b[2m   Use a production WSGI server instead.\u001b[0m\n",
      " * Debug mode: off\n"
     ]
    },
    {
     "name": "stderr",
     "output_type": "stream",
     "text": [
      " * Running on http://127.0.0.1:5000/ (Press CTRL+C to quit)\n"
     ]
    }
   ],
   "source": [
    "if __name__ == \"__main__\":\n",
    "   app.run()"
   ]
  },
  {
   "cell_type": "code",
   "execution_count": null,
   "id": "8241eeff",
   "metadata": {},
   "outputs": [],
   "source": []
  }
 ],
 "metadata": {
  "kernelspec": {
   "display_name": "PythonData",
   "language": "python",
   "name": "pythondata"
  },
  "language_info": {
   "codemirror_mode": {
    "name": "ipython",
    "version": 3
   },
   "file_extension": ".py",
   "mimetype": "text/x-python",
   "name": "python",
   "nbconvert_exporter": "python",
   "pygments_lexer": "ipython3",
   "version": "3.7.13"
  }
 },
 "nbformat": 4,
 "nbformat_minor": 5
}

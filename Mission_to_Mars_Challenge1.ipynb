{
 "cells": [
  {
   "cell_type": "code",
   "execution_count": 22,
   "id": "4de1ebee",
   "metadata": {},
   "outputs": [],
   "source": [
    "# Import Splinter and BeautifulSoup\n",
    "from splinter import Browser\n",
    "from bs4 import BeautifulSoup as soup\n",
    "from webdriver_manager.chrome import ChromeDriverManager\n",
    "import pandas as pd"
   ]
  },
  {
   "cell_type": "code",
   "execution_count": 23,
   "id": "58fc6699",
   "metadata": {},
   "outputs": [],
   "source": [
    "executable_path = {'executable_path': ChromeDriverManager().install()}\n",
    "browser = Browser('chrome', **executable_path, headless=False)"
   ]
  },
  {
   "cell_type": "code",
   "execution_count": null,
   "id": "24766bed",
   "metadata": {},
   "outputs": [],
   "source": [
    "# Visit the mars nasa news site\n",
    "url = 'https://redplanetscience.com'\n",
    "browser.visit(url)\n",
    "# Optional delay for loading the page\n",
    "browser.is_element_present_by_css('div.list_text', wait_time=1)"
   ]
  },
  {
   "cell_type": "code",
   "execution_count": null,
   "id": "914a164e",
   "metadata": {},
   "outputs": [],
   "source": [
    "#set up the HTML parser (10.3.3)\n",
    "html = browser.html\n",
    "news_soup = soup(html, 'html.parser')\n",
    "slide_elem = news_soup.select_one('div.list_text')"
   ]
  },
  {
   "cell_type": "code",
   "execution_count": null,
   "id": "7fd416e3",
   "metadata": {},
   "outputs": [],
   "source": [
    "#We'll want to assign the title and summary text to variables we'll reference later\n",
    "slide_elem.find('div', class_='content_title')"
   ]
  },
  {
   "cell_type": "code",
   "execution_count": null,
   "id": "61d76af6",
   "metadata": {},
   "outputs": [],
   "source": [
    "# we are creating a new variable \"news_title.  Also, Use the parent element to find the first `a` tag and save it as `news_title`- output will be everything nested within div\n",
    "news_title = slide_elem.find('div', class_='content_title').get_text()\n",
    "news_title"
   ]
  },
  {
   "cell_type": "code",
   "execution_count": null,
   "id": "e31ce9af",
   "metadata": {},
   "outputs": [],
   "source": [
    "# we need to get just the text, and the extra HTML stuff isn't necessary. Use the parent element to find the paragraph text\n",
    "news_p = slide_elem.find('div', class_='article_teaser_body').get_text()\n",
    "news_p"
   ]
  },
  {
   "cell_type": "markdown",
   "id": "15976c3d",
   "metadata": {},
   "source": [
    "### Featured Images\n",
    "we want the full-size version of this image, so we know we'll want Splinter to click the \"Full Image\" button. From there, the page directs us to a slideshow. It's a little closer to getting the full-size feature image, but we aren't quite there yet.\n",
    "\n",
    "This is a lot of clicking to get to the image we want. Let's start getting our code ready to automate all of the clicks."
   ]
  },
  {
   "cell_type": "code",
   "execution_count": null,
   "id": "7f173f1f",
   "metadata": {},
   "outputs": [],
   "source": [
    "# set up the URL.  Visit URL\n",
    "url = 'https://spaceimages-mars.com'\n",
    "browser.visit(url)"
   ]
  },
  {
   "cell_type": "code",
   "execution_count": null,
   "id": "d3ff6f51",
   "metadata": {},
   "outputs": [],
   "source": [
    "# Find and click the full image button\n",
    "full_image_elem = browser.find_by_tag('button')[1]\n",
    "full_image_elem.click()"
   ]
  },
  {
   "cell_type": "code",
   "execution_count": null,
   "id": "eaead93c",
   "metadata": {},
   "outputs": [],
   "source": [
    "# Parse the resulting html with soup\n",
    "html = browser.html\n",
    "img_soup = soup(html, 'html.parser')"
   ]
  },
  {
   "cell_type": "code",
   "execution_count": null,
   "id": "151730fb",
   "metadata": {},
   "outputs": [],
   "source": [
    "# Find the relative image url\n",
    "img_url_rel = img_soup.find('img', class_='fancybox-image').get('src')\n",
    "img_url_rel"
   ]
  },
  {
   "cell_type": "code",
   "execution_count": null,
   "id": "d3bf827a",
   "metadata": {},
   "outputs": [],
   "source": [
    "# new variable will hold our f string for better print image. to make the image show up in our browser, Use the base URL to create an absolute URL\n",
    "img_url = f'https://spaceimages-mars.com/{img_url_rel}'\n",
    "img_url"
   ]
  },
  {
   "cell_type": "code",
   "execution_count": null,
   "id": "12002858",
   "metadata": {},
   "outputs": [],
   "source": [
    "#With this line, we're creating a new DataFrame from the HTML table that will show image specifications\n",
    "df = pd.read_html('https://galaxyfacts-mars.com')[0]\n",
    "df.columns=['description', 'Mars', 'Earth']\n",
    "df.set_index('description', inplace=True)\n",
    "df"
   ]
  },
  {
   "cell_type": "code",
   "execution_count": null,
   "id": "1bfc81d1",
   "metadata": {},
   "outputs": [],
   "source": [
    "# Below code will convert the table above back to HTML format\n",
    "df.to_html()"
   ]
  },
  {
   "cell_type": "code",
   "execution_count": null,
   "id": "69db6db1",
   "metadata": {},
   "outputs": [],
   "source": [
    "browser.quit()"
   ]
  },
  {
   "cell_type": "code",
   "execution_count": null,
   "id": "5c146b25",
   "metadata": {},
   "outputs": [],
   "source": [
    "### Visit the NASA Mars News Site\n",
    "\n",
    "# Visit the mars nasa news site\n",
    "url = 'https://redplanetscience.com/'\n",
    "browser.visit(url)\n",
    "\n",
    "# Optional delay for loading the page\n",
    "browser.is_element_present_by_css('div.list_text', wait_time=1)\n",
    "\n",
    "# Convert the browser html to a soup object and then quit the browser\n",
    "html = browser.html\n",
    "news_soup = soup(html, 'html.parser')\n",
    "\n",
    "slide_elem = news_soup.select_one('div.list_text')\n",
    "\n",
    "slide_elem.find('div', class_='content_title')\n",
    "\n",
    "# Use the parent element to find the first a tag and save it as `news_title`\n",
    "news_title = slide_elem.find('div', class_='content_title').get_text()\n",
    "news_title\n",
    "\n",
    "# Use the parent element to find the paragraph text\n",
    "news_p = slide_elem.find('div', class_='article_teaser_body').get_text()\n",
    "news_p\n",
    "\n",
    "### JPL Space Images Featured Image\n",
    "\n",
    "# Visit URL\n",
    "url = 'https://spaceimages-mars.com'\n",
    "browser.visit(url)\n",
    "\n",
    "# Find and click the full image button\n",
    "full_image_elem = browser.find_by_tag('button')[1]\n",
    "full_image_elem.click()\n",
    "\n",
    "# Parse the resulting html with soup\n",
    "html = browser.html\n",
    "img_soup = soup(html, 'html.parser')\n",
    "img_soup\n",
    "\n",
    "# find the relative image url\n",
    "img_url_rel = img_soup.find('img', class_='fancybox-image').get('src')\n",
    "img_url_rel\n",
    "\n",
    "# Use the base url to create an absolute url\n",
    "img_url = f'https://spaceimages-mars.com/{img_url_rel}'\n",
    "img_url\n",
    "\n",
    "### Mars Facts\n",
    "\n",
    "df = pd.read_html('https://galaxyfacts-mars.com')[0]\n",
    "df.head()\n",
    "\n",
    "df.columns=['Description', 'Mars', 'Earth']\n",
    "df.set_index('Description', inplace=True)\n",
    "df\n",
    "\n",
    "df.to_html()\n",
    "\n",
    "\n",
    "# D1: Scrape High-Resolution Mars’ Hemisphere Images and Titles\n",
    "\n",
    "### Hemispheres\n",
    "\n",
    "# 1. Use browser to visit the URL \n",
    "#f hemispheres(browser)\n",
    "url = 'https://marshemispheres.com/'\n",
    "browser.visit(url)\n",
    "html = browser.html\n",
    "soup = soup(html, 'html.parser')\n",
    "\n",
    "\n",
    "# 2. Create a list to hold the images and titles.\n",
    "hemisphere_image_urls = []\n",
    "\n",
    "\n",
    "# 3. Write code to retrieve the image urls and titles for each hemisphere.\n",
    "listImages = soup.find_all('img')\n",
    "\n",
    "# Loop over listImages elements\n",
    "for img in imgs:\n",
    "    # If img element has an anchor...\n",
    "    if (img.a):\n",
    "        # And the anchor has non-blank text...\n",
    "        if (img.a.text):\n",
    "            # Append the img to the list\n",
    "            images.append(img)\n",
    "\n",
    "#for (image in listImages) \n",
    "imageUrl = image.get(\"src\"); \n",
    "hemisphere_image_urls.append({\n",
    "        imageUrl\n",
    "        \n",
    "    })\n",
    "\n",
    "\n",
    "#listImages = soup.find_all(\".item img\") # List of images\n",
    "\n",
    "for (image in listImages) {\n",
    "    imageUrl = image.get(\"src\"); # https://google.com\n",
    "    hemisphere_image_urls.append({\n",
    "        imageUrl\n",
    "        #title\n",
    "    })\n",
    "}\n",
    "#tds = soup.find_all('td')\n",
    "\n",
    "# 4. Print the list that holds the dictionary of each image url and title.\n",
    "hemisphere_image_urls\n",
    "\n",
    "# 5. Quit the browser\n",
    "browser.quit()\n",
    "\n"
   ]
  },
  {
   "cell_type": "code",
   "execution_count": 3,
   "id": "c7a9bb82",
   "metadata": {},
   "outputs": [],
   "source": [
    "# 1. Use browser to visit the URL \n",
    "#f hemispheres(browser)\n",
    "url = 'https://marshemispheres.com/'\n",
    "browser.visit(url)\n",
    "html = browser.html\n",
    "soup = soup(html, 'html.parser')\n"
   ]
  },
  {
   "cell_type": "code",
   "execution_count": 4,
   "id": "8dad33d6",
   "metadata": {},
   "outputs": [],
   "source": [
    "# 2. Create a list to hold the images and titles.\n",
    "hemisphere_image_urls = []"
   ]
  },
  {
   "cell_type": "code",
   "execution_count": 7,
   "id": "ceb9d314",
   "metadata": {},
   "outputs": [],
   "source": [
    "# 3. Write code to retrieve the image urls and titles for each hemisphere.\n",
    "imgs = soup.find_all('img')\n",
    "\n",
    "# Loop over listImages elements\n",
    "for img in imgs:\n",
    "    \n",
    "    # If img element has an anchor...\n",
    "    if (img.a):\n",
    "        # And the anchor has non-blank text...\n",
    "        if (img.a.text):\n",
    "            # Append the img to the list\n",
    "            images.append(img)\n"
   ]
  },
  {
   "cell_type": "code",
   "execution_count": 21,
   "id": "245676c9",
   "metadata": {},
   "outputs": [
    {
     "name": "stdout",
     "output_type": "stream",
     "text": [
      "<img alt=\"Valles Marineris Hemisphere Enhanced thumbnail\" class=\"thumb\" src=\"images/4e59980c1c57f89c680c0e1ccabbeff1_valles_marineris_enhanced.tif_thumb.png\"/>\n",
      "<img alt=\"Valles Marineris Hemisphere Enhanced thumbnail\" class=\"thumb\" src=\"images/4e59980c1c57f89c680c0e1ccabbeff1_valles_marineris_enhanced.tif_thumb.png\"/>\n",
      "<img alt=\"Valles Marineris Hemisphere Enhanced thumbnail\" class=\"thumb\" src=\"images/4e59980c1c57f89c680c0e1ccabbeff1_valles_marineris_enhanced.tif_thumb.png\"/>\n",
      "<img alt=\"Valles Marineris Hemisphere Enhanced thumbnail\" class=\"thumb\" src=\"images/4e59980c1c57f89c680c0e1ccabbeff1_valles_marineris_enhanced.tif_thumb.png\"/>\n"
     ]
    }
   ],
   "source": [
    "for i in range (4):\n",
    "    print(img)\n"
   ]
  },
  {
   "cell_type": "code",
   "execution_count": null,
   "id": "0e62641d",
   "metadata": {},
   "outputs": [],
   "source": [
    "# MOJE ### Visit the NASA Mars News Site\n",
    "\n",
    "# Visit the mars nasa news site\n",
    "url = 'https://redplanetscience.com/'\n",
    "browser.visit(url)\n",
    "\n",
    "# Optional delay for loading the page\n",
    "browser.is_element_present_by_css('div.list_text', wait_time=1)\n",
    "\n",
    "# Convert the browser html to a soup object and then quit the browser\n",
    "html = browser.html\n",
    "news_soup = soup(html, 'html.parser')\n",
    "\n",
    "slide_elem = news_soup.select_one('div.list_text')\n",
    "\n",
    "slide_elem.find('div', class_='content_title')\n",
    "\n",
    "# Use the parent element to find the first a tag and save it as `news_title`\n",
    "news_title = slide_elem.find('div', class_='content_title').get_text()\n",
    "news_title\n",
    "\n",
    "# Use the parent element to find the paragraph text\n",
    "news_p = slide_elem.find('div', class_='article_teaser_body').get_text()\n",
    "news_p\n",
    "\n",
    "### JPL Space Images Featured Image\n",
    "\n",
    "# Visit URL\n",
    "url = 'https://spaceimages-mars.com'\n",
    "browser.visit(url)\n",
    "\n",
    "# Find and click the full image button\n",
    "full_image_elem = browser.find_by_tag('button')[1]\n",
    "full_image_elem.click()\n",
    "\n",
    "# Parse the resulting html with soup\n",
    "html = browser.html\n",
    "img_soup = soup(html, 'html.parser')\n",
    "img_soup\n",
    "\n",
    "# find the relative image url\n",
    "img_url_rel = img_soup.find('img', class_='fancybox-image').get('src')\n",
    "img_url_rel\n",
    "\n",
    "# Use the base url to create an absolute url\n",
    "img_url = f'https://spaceimages-mars.com/{img_url_rel}'\n",
    "img_url\n",
    "\n",
    "### Mars Facts\n",
    "\n",
    "df = pd.read_html('https://galaxyfacts-mars.com')[0]\n",
    "df.head()\n",
    "\n",
    "df.columns=['Description', 'Mars', 'Earth']\n",
    "df.set_index('Description', inplace=True)\n",
    "df\n",
    "\n",
    "df.to_html()\n",
    "\n",
    "\n",
    "\n",
    "# D1: Scrape High-Resolution Mars’ Hemisphere Images and Titles\n",
    "\n",
    "### Hemispheres\n",
    "\n",
    "# 1. Use browser to visit the URL \n",
    "def hemispheres(browser):\n",
    "   url = 'https://marshemispheres.com/'\n",
    "   browser.visit(url + 'index.html')\n",
    "\n",
    "# 2. Create a list to hold the images and titles.\n",
    "\n",
    "hemisphere_image_urls = []\n",
    "   \n",
    "\n",
    "# 3. Write code to retrieve the image urls and titles for each hemisphere.\n",
    "# Click the link, find the sample anchor, return the href\n",
    "for i in range(4):\n",
    "       # Find the elements on each loop to avoid a stale element exception\n",
    "       browser.find_by_css(\"a.product-item img\")[i].click()\n",
    "        hemi_data = scrape_hemisphere(browser.html)\n",
    "        hemi_data['img_url'] = url + hemi_data['img_url'] \n",
    "\n",
    "\n",
    "#listImages = soup.find_all(\".item img\") # List of images\n",
    "\n",
    "for (image in listImages) {\n",
    "    imageUrl = image.get(\"src\"); # https://google.com\n",
    "    hemisphere_image_urls.append({\n",
    "        imageUrl\n",
    "        #title\n",
    "    })\n",
    "}\n",
    "#tds = soup.find_all('td')\n",
    "\n",
    "# 4. Print the list that holds the dictionary of each image url and title.\n",
    "hemisphere_image_urls\n",
    "\n",
    "# 5. Quit the browser\n",
    "browser.quit()"
   ]
  },
  {
   "cell_type": "code",
   "execution_count": null,
   "id": "923aea19",
   "metadata": {},
   "outputs": [],
   "source": [
    "def hemispheres(browser):\n",
    "    \n",
    "    url = 'https://marshemispheres.com/'\n",
    "    browser.visit(url)\n",
    "# Click the link, find the sample anchor, return the href\n",
    "hemisphere_image_urls = []\n",
    " for i in range(1):\n",
    "        \n",
    "# Find the elements on each loop to avoid a stale element exception\n",
    " browser.find_by_css(\"a.product-item img\")[i].click()\n",
    "    hemi_data = scrape_hemisphere(browser.html)\n",
    "    hemi_data['img_url'] = url + hemi_data['img_url']\n",
    "       \n",
    " # Append hemisphere object to list\n",
    "hemisphere_image_urls.append(hemi_data)\n",
    " # Finally, we navigate backwards\n",
    "browser.back()\n",
    "   \n",
    "return hemisphere_image_urls\n",
    "def scrape_hemisphere(html_text):\n",
    "   # parse html text\n",
    "   hemi_soup = soup(html_text, \"html.parser\")\n",
    "   # adding try/except for error handling\n",
    "   try:\n",
    "        title_elem = hemi_soup.find(\"h2\", class_=\"title\").get_text()\n",
    "        sample_elem = hemi_soup.find(\"a\", text=\"Sample\").get(\"href\")\n",
    "  \n",
    "   except AttributeError:\n",
    "\n",
    "# Image error will return None, for better front-end handling\n",
    "    title_elem = None\n",
    "    sample_elem = None\n",
    "    hemispheres = {\n",
    "       \"title\": title_elem,\n",
    "       \"img_url\": sample_elem\n",
    "   }\n",
    "    return hemispheres (edited) "
   ]
  },
  {
   "cell_type": "code",
   "execution_count": 24,
   "id": "109a00d0",
   "metadata": {},
   "outputs": [
    {
     "name": "stdout",
     "output_type": "stream",
     "text": [
      "[]\n"
     ]
    }
   ],
   "source": [
    "def hemispheres(browser):\n",
    "    url = 'https://marshemispheres.com/'\n",
    "    browser.visit(url)\n",
    "    hemisphere_image_urls = []\n",
    "    for i in range(4):\n",
    "        browser.find_by_css(\"a.product-item img\")[i].click()\n",
    "        hemi_data = scrape_hemisphere(browser.html)\n",
    "        hemi_data['img_url'] = url + hemi_data['img_url']\n",
    "        hemisphere_image_urls.append(hemi_data)\n",
    "        browser.back()\n",
    "        \n",
    "    return hemisphere_image_urls\n",
    "def scrape_hemisphere(html_text):\n",
    "    hemi_soup = soup(html_text, \"html.parser\")\n",
    "    try:\n",
    "        title_elem = hemi_soup.find(\"h2\", class_=\"title\").get_text()\n",
    "        sample_elem = hemi_soup.find(\"a\", text=\"Sample\").get(\"href\")\n",
    "    except AttributeError:\n",
    "        title_elem = None\n",
    "        sample_elem = None\n",
    "    hemispheres = {\n",
    "       \"title\": title_elem,\n",
    "       \"img_url\": sample_elem\n",
    "   }\n",
    "    return hemispheres \n",
    "# 4. Print the list that holds the dictionary of each image url and title.\n",
    "print(hemisphere_image_urls)\n",
    "\n",
    "\n",
    "        \n",
    "        \n",
    "    \n",
    "    "
   ]
  },
  {
   "cell_type": "code",
   "execution_count": 25,
   "id": "19a58e1e",
   "metadata": {},
   "outputs": [],
   "source": [
    "x=hemispheres(browser)"
   ]
  },
  {
   "cell_type": "code",
   "execution_count": 26,
   "id": "8abaf637",
   "metadata": {},
   "outputs": [
    {
     "name": "stdout",
     "output_type": "stream",
     "text": [
      "[{'title': 'Cerberus Hemisphere Enhanced', 'img_url': 'https://marshemispheres.com/images/full.jpg'}, {'title': 'Schiaparelli Hemisphere Enhanced', 'img_url': 'https://marshemispheres.com/images/schiaparelli_enhanced-full.jpg'}, {'title': 'Syrtis Major Hemisphere Enhanced', 'img_url': 'https://marshemispheres.com/images/syrtis_major_enhanced-full.jpg'}, {'title': 'Valles Marineris Hemisphere Enhanced', 'img_url': 'https://marshemispheres.com/images/valles_marineris_enhanced-full.jpg'}]\n"
     ]
    }
   ],
   "source": [
    "print(x)"
   ]
  },
  {
   "cell_type": "code",
   "execution_count": 28,
   "id": "d0e9cc90",
   "metadata": {},
   "outputs": [],
   "source": [
    "# 5. Quit the browser\n",
    "browser.quit()\n",
    "        "
   ]
  },
  {
   "cell_type": "code",
   "execution_count": 27,
   "id": "4b9808b2",
   "metadata": {},
   "outputs": [],
   "source": [
    "#ALSO WORKING:\n",
    "hemisphere_image_urls = []\n",
    "\n",
    "# 3. Write code to retrieve the image urls and titles for each hemisphere.\n",
    "for hemisphere in range(4):\n",
    "    \n",
    "    # Browse through each article\n",
    "    full_image_elem = browser.find_by_tag('h3')\n",
    "    full_image_elem[hemisphere].click()\n",
    "    \n",
    "    # Parse the HTML\n",
    "    html = browser.html\n",
    "    hemi_soup = soup(html,'html.parser')\n",
    "    \n",
    "    # Scraping\n",
    "    title = hemi_soup.find('h2', class_='title').text\n",
    "    img_url = hemi_soup.find('li').a.get('href')\n",
    "    \n",
    "    # Store findings into a dictionary and append to list\n",
    "    hemispheres = {}\n",
    "    hemispheres['img_url'] = f'https://marshemispheres.com/{img_url}'\n",
    "    hemispheres['title'] = title\n",
    "    hemisphere_image_urls.append(hemispheres)\n",
    "    \n",
    "    # Browse back to repeat\n",
    "    browser.back()"
   ]
  },
  {
   "cell_type": "code",
   "execution_count": null,
   "id": "a1c713fb",
   "metadata": {},
   "outputs": [],
   "source": []
  }
 ],
 "metadata": {
  "kernelspec": {
   "display_name": "PythonData",
   "language": "python",
   "name": "pythondata"
  },
  "language_info": {
   "codemirror_mode": {
    "name": "ipython",
    "version": 3
   },
   "file_extension": ".py",
   "mimetype": "text/x-python",
   "name": "python",
   "nbconvert_exporter": "python",
   "pygments_lexer": "ipython3",
   "version": "3.7.13"
  }
 },
 "nbformat": 4,
 "nbformat_minor": 5
}
